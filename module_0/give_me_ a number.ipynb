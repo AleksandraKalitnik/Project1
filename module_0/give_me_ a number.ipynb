{
 "cells": [
  {
   "cell_type": "code",
   "execution_count": 2,
   "metadata": {},
   "outputs": [
    {
     "name": "stdout",
     "output_type": "stream",
     "text": [
      "Загадано число от 1 до 100\n",
      "Ваш алгоритм угадывает число в среднем за 62 попыток\n"
     ]
    },
    {
     "data": {
      "text/plain": [
       "62"
      ]
     },
     "execution_count": 2,
     "metadata": {},
     "output_type": "execute_result"
    }
   ],
   "source": [
    "import numpy as np \n",
    "number = np.random.randint(1,101)      # импортируем произвольное число от 1 до 100 из библиотеки\n",
    "print (\"Загадано число от 1 до 100\")\n",
    "\n",
    "\n",
    "def game_core(count):                  # создаём функцию для счётчика попыток\n",
    "    count = 0       \n",
    "    predict = np.random.randint(1,101) # сохраняем предполагаемое число в переменную\n",
    "    for number in range(1,101):\n",
    "        if number > predict:\n",
    "            predict+=1\n",
    "            count+=1\n",
    "            continue\n",
    "        elif number < predict:\n",
    "            predict-=1\n",
    "            count+=1\n",
    "            continue\n",
    "        elif number == predict:\n",
    "            break                     # выход из цикла, если число угадано\n",
    "    return(count)                     # функция возвращает количество попыток\n",
    "\n",
    "# запускаем игру 1000 раз, чтобы узнать, как быстро игра угадывает число''\n",
    "\n",
    "def score_game(game_core):  \n",
    "    count_ls = []           # создаем список-счетчик\n",
    "    np.random.seed(1)       # фиксируем RANDOM SEED\n",
    "    random_array = np.random.randint(1,101, size=(1000)) # задаём количество раз size = 1000\n",
    "    for number in random_array:\n",
    "        count_ls.append(game_core(number)) # добавляем количество попыток в список\n",
    "    score = int(np.mean(count_ls)) # находим среднее значение для возможного количества попыток\n",
    "    print(f\"Ваш алгоритм угадывает число в среднем за {score} попыток\")\n",
    "    return(score)\n",
    "\n",
    "\n",
    "score_game(game_core) # проверяем"
   ]
  },
  {
   "cell_type": "code",
   "execution_count": null,
   "metadata": {},
   "outputs": [],
   "source": []
  }
 ],
 "metadata": {
  "kernelspec": {
   "display_name": "Python 3",
   "language": "python",
   "name": "python3"
  },
  "language_info": {
   "codemirror_mode": {
    "name": "ipython",
    "version": 3
   },
   "file_extension": ".py",
   "mimetype": "text/x-python",
   "name": "python",
   "nbconvert_exporter": "python",
   "pygments_lexer": "ipython3",
   "version": "3.8.5"
  }
 },
 "nbformat": 4,
 "nbformat_minor": 4
}
